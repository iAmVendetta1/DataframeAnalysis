{
 "cells": [
  {
   "cell_type": "code",
   "execution_count": 2,
   "id": "3de09068-a6c1-4032-8431-6d71dd08f37c",
   "metadata": {},
   "outputs": [],
   "source": [
    "import numpy as np\n",
    "import pandas as pd\n",
    "import matplotlib.pyplot as plt\n",
    "from sklearn.model_selection import train_test_split\n",
    "from sklearn.preprocessing import OneHotEncoder\n",
    "from sklearn.linear_model import LogisticRegression\n",
    "from sklearn.tree import DecisionTreeClassifier\n",
    "from sklearn.ensemble import RandomForestClassifier\n",
    "from sklearn.metrics import confusion_matrix, classification_report"
   ]
  },
  {
   "cell_type": "code",
   "execution_count": 76,
   "id": "9722ec5c-711e-4cb5-83dd-e60ffe08871f",
   "metadata": {},
   "outputs": [
    {
     "data": {
      "text/html": [
       "<div>\n",
       "<style scoped>\n",
       "    .dataframe tbody tr th:only-of-type {\n",
       "        vertical-align: middle;\n",
       "    }\n",
       "\n",
       "    .dataframe tbody tr th {\n",
       "        vertical-align: top;\n",
       "    }\n",
       "\n",
       "    .dataframe thead th {\n",
       "        text-align: right;\n",
       "    }\n",
       "</style>\n",
       "<table border=\"1\" class=\"dataframe\">\n",
       "  <thead>\n",
       "    <tr style=\"text-align: right;\">\n",
       "      <th></th>\n",
       "      <th>Customer_ID</th>\n",
       "      <th>Age</th>\n",
       "      <th>Occupation</th>\n",
       "      <th>Annual_Income</th>\n",
       "      <th>Monthly_Inhand_Salary</th>\n",
       "      <th>Num_Bank_Accounts</th>\n",
       "      <th>Num_Credit_Card</th>\n",
       "      <th>Interest_Rate</th>\n",
       "      <th>Num_of_Loan</th>\n",
       "      <th>Delay_from_due_date</th>\n",
       "      <th>...</th>\n",
       "      <th>Last_Loan_9</th>\n",
       "      <th>Last_Loan_8</th>\n",
       "      <th>Last_Loan_7</th>\n",
       "      <th>Last_Loan_6</th>\n",
       "      <th>Last_Loan_5</th>\n",
       "      <th>Last_Loan_4</th>\n",
       "      <th>Last_Loan_3</th>\n",
       "      <th>Last_Loan_2</th>\n",
       "      <th>Last_Loan_1</th>\n",
       "      <th>Credit_Score</th>\n",
       "    </tr>\n",
       "  </thead>\n",
       "  <tbody>\n",
       "    <tr>\n",
       "      <th>0</th>\n",
       "      <td>CUS_0x98ed</td>\n",
       "      <td>31</td>\n",
       "      <td>Journalist</td>\n",
       "      <td>22229.060</td>\n",
       "      <td>1672.421667</td>\n",
       "      <td>6</td>\n",
       "      <td>4</td>\n",
       "      <td>5</td>\n",
       "      <td>3</td>\n",
       "      <td>10</td>\n",
       "      <td>...</td>\n",
       "      <td>No Loan</td>\n",
       "      <td>No Loan</td>\n",
       "      <td>No Loan</td>\n",
       "      <td>No Loan</td>\n",
       "      <td>No Loan</td>\n",
       "      <td>No Loan</td>\n",
       "      <td>Debt Consolidation Loan</td>\n",
       "      <td>Home Equity Loan</td>\n",
       "      <td>Debt Consolidation Loan</td>\n",
       "      <td>Standard</td>\n",
       "    </tr>\n",
       "    <tr>\n",
       "      <th>1</th>\n",
       "      <td>CUS_0x36b4</td>\n",
       "      <td>43</td>\n",
       "      <td>Musician</td>\n",
       "      <td>17060.705</td>\n",
       "      <td>1685.725417</td>\n",
       "      <td>8</td>\n",
       "      <td>3</td>\n",
       "      <td>11</td>\n",
       "      <td>4</td>\n",
       "      <td>24</td>\n",
       "      <td>...</td>\n",
       "      <td>No Loan</td>\n",
       "      <td>No Loan</td>\n",
       "      <td>No Loan</td>\n",
       "      <td>No Loan</td>\n",
       "      <td>No Loan</td>\n",
       "      <td>Debt Consolidation Loan</td>\n",
       "      <td>Home Equity Loan</td>\n",
       "      <td>Auto Loan</td>\n",
       "      <td>Auto Loan</td>\n",
       "      <td>Standard</td>\n",
       "    </tr>\n",
       "    <tr>\n",
       "      <th>2</th>\n",
       "      <td>CUS_0x105b</td>\n",
       "      <td>24</td>\n",
       "      <td>Accountant</td>\n",
       "      <td>34428.210</td>\n",
       "      <td>2575.017500</td>\n",
       "      <td>2</td>\n",
       "      <td>4</td>\n",
       "      <td>8</td>\n",
       "      <td>0</td>\n",
       "      <td>3</td>\n",
       "      <td>...</td>\n",
       "      <td>No Loan</td>\n",
       "      <td>No Loan</td>\n",
       "      <td>No Loan</td>\n",
       "      <td>No Loan</td>\n",
       "      <td>No Loan</td>\n",
       "      <td>No Loan</td>\n",
       "      <td>No Loan</td>\n",
       "      <td>No Loan</td>\n",
       "      <td>No Loan</td>\n",
       "      <td>Good</td>\n",
       "    </tr>\n",
       "    <tr>\n",
       "      <th>3</th>\n",
       "      <td>CUS_0x4c4a</td>\n",
       "      <td>21</td>\n",
       "      <td>Accountant</td>\n",
       "      <td>12613.920</td>\n",
       "      <td>1155.160000</td>\n",
       "      <td>4</td>\n",
       "      <td>6</td>\n",
       "      <td>13</td>\n",
       "      <td>3</td>\n",
       "      <td>14</td>\n",
       "      <td>...</td>\n",
       "      <td>No Loan</td>\n",
       "      <td>No Loan</td>\n",
       "      <td>No Loan</td>\n",
       "      <td>No Loan</td>\n",
       "      <td>No Loan</td>\n",
       "      <td>No Loan</td>\n",
       "      <td>Personal Loan</td>\n",
       "      <td>Student Loan</td>\n",
       "      <td>Home Equity Loan</td>\n",
       "      <td>Standard</td>\n",
       "    </tr>\n",
       "    <tr>\n",
       "      <th>4</th>\n",
       "      <td>CUS_0x612f</td>\n",
       "      <td>31</td>\n",
       "      <td>Journalist</td>\n",
       "      <td>34775.160</td>\n",
       "      <td>3048.930000</td>\n",
       "      <td>7</td>\n",
       "      <td>9</td>\n",
       "      <td>25</td>\n",
       "      <td>5</td>\n",
       "      <td>20</td>\n",
       "      <td>...</td>\n",
       "      <td>No Loan</td>\n",
       "      <td>No Loan</td>\n",
       "      <td>No Loan</td>\n",
       "      <td>No Loan</td>\n",
       "      <td>Auto Loan</td>\n",
       "      <td>Mortgage Loan</td>\n",
       "      <td>Auto Loan</td>\n",
       "      <td>Payday Loan</td>\n",
       "      <td>Not Specified</td>\n",
       "      <td>Poor</td>\n",
       "    </tr>\n",
       "  </tbody>\n",
       "</table>\n",
       "<p>5 rows × 32 columns</p>\n",
       "</div>"
      ],
      "text/plain": [
       "  Customer_ID  Age  Occupation  Annual_Income  Monthly_Inhand_Salary  \\\n",
       "0  CUS_0x98ed   31  Journalist      22229.060            1672.421667   \n",
       "1  CUS_0x36b4   43    Musician      17060.705            1685.725417   \n",
       "2  CUS_0x105b   24  Accountant      34428.210            2575.017500   \n",
       "3  CUS_0x4c4a   21  Accountant      12613.920            1155.160000   \n",
       "4  CUS_0x612f   31  Journalist      34775.160            3048.930000   \n",
       "\n",
       "   Num_Bank_Accounts  Num_Credit_Card  Interest_Rate  Num_of_Loan  \\\n",
       "0                  6                4              5            3   \n",
       "1                  8                3             11            4   \n",
       "2                  2                4              8            0   \n",
       "3                  4                6             13            3   \n",
       "4                  7                9             25            5   \n",
       "\n",
       "   Delay_from_due_date  ...  Last_Loan_9  Last_Loan_8  Last_Loan_7  \\\n",
       "0                   10  ...      No Loan      No Loan      No Loan   \n",
       "1                   24  ...      No Loan      No Loan      No Loan   \n",
       "2                    3  ...      No Loan      No Loan      No Loan   \n",
       "3                   14  ...      No Loan      No Loan      No Loan   \n",
       "4                   20  ...      No Loan      No Loan      No Loan   \n",
       "\n",
       "  Last_Loan_6  Last_Loan_5              Last_Loan_4              Last_Loan_3  \\\n",
       "0     No Loan      No Loan                  No Loan  Debt Consolidation Loan   \n",
       "1     No Loan      No Loan  Debt Consolidation Loan         Home Equity Loan   \n",
       "2     No Loan      No Loan                  No Loan                  No Loan   \n",
       "3     No Loan      No Loan                  No Loan            Personal Loan   \n",
       "4     No Loan    Auto Loan            Mortgage Loan                Auto Loan   \n",
       "\n",
       "        Last_Loan_2              Last_Loan_1  Credit_Score  \n",
       "0  Home Equity Loan  Debt Consolidation Loan      Standard  \n",
       "1         Auto Loan                Auto Loan      Standard  \n",
       "2           No Loan                  No Loan          Good  \n",
       "3      Student Loan         Home Equity Loan      Standard  \n",
       "4       Payday Loan            Not Specified          Poor  \n",
       "\n",
       "[5 rows x 32 columns]"
      ]
     },
     "execution_count": 76,
     "metadata": {},
     "output_type": "execute_result"
    }
   ],
   "source": [
    "credit = pd.read_table('Credit_score_10000.csv', sep=',')\n",
    "credit.head(5)"
   ]
  },
  {
   "cell_type": "markdown",
   "id": "5d2cc2af-5fda-47eb-a480-ade26ef86433",
   "metadata": {},
   "source": [
    "Separating categorical and numerical features"
   ]
  },
  {
   "cell_type": "code",
   "execution_count": 78,
   "id": "877a23f2-b22c-4241-90b9-5c39846cde5b",
   "metadata": {},
   "outputs": [
    {
     "name": "stdout",
     "output_type": "stream",
     "text": [
      "Numerical Feature Array Shape:      (10000, 17)\n",
      "Categorical Feature Array Shape:    (10000, 14)\n",
      "Label Array Shape:                  (10000,)\n"
     ]
    }
   ],
   "source": [
    "# Extract numerical features and store them in X_num\n",
    "X_num = credit[['Age', 'Annual_Income', 'Monthly_Inhand_Salary', 'Num_Bank_Accounts', 'Num_Credit_Card', \n",
    "            'Interest_Rate', 'Num_of_Loan', 'Delay_from_due_date', 'Num_of_Delayed_Payment', 'Changed_Credit_Limit', \n",
    "            'Num_Credit_Inquiries', 'Outstanding_Debt', 'Credit_Utilization_Ratio', 'Credit_History_Age', 'Total_EMI_per_month', \n",
    "            'Amount_invested_monthly', 'Monthly_Balance']].values\n",
    "\n",
    "# Extract categorical features and store them in X_cat\n",
    "X_cat = credit[['Customer_ID', 'Occupation', 'Credit_Mix', 'Last_Loan_9', 'Last_Loan_8', 'Last_Loan_7', 'Last_Loan_6', 'Last_Loan_5', 'Last_Loan_4', \n",
    "                 'Last_Loan_3', 'Last_Loan_2', 'Last_Loan_1', 'Payment_of_Min_Amount', 'Payment_Behaviour']].values\n",
    "\n",
    "# Extract the target variable and store it in y\n",
    "y = credit['Credit_Score'].values\n",
    "\n",
    "# Print the shapes of the numerical, categorical, and target arrays\n",
    "print(f'{\"Numerical Feature Array Shape: \":<35} {X_num.shape}')\n",
    "print(f'{\"Categorical Feature Array Shape: \":<35} {X_cat.shape}')\n",
    "print(f'{\"Label Array Shape: \":<35} {y.shape}')"
   ]
  },
  {
   "cell_type": "markdown",
   "id": "6ddbb77e-ff80-46d3-a521-32c16d631c5b",
   "metadata": {},
   "source": [
    "Encode the categorical variables using One-Hot Encoding"
   ]
  },
  {
   "cell_type": "code",
   "execution_count": 80,
   "id": "e24f2c5c-a003-479d-80ed-1f7efa852e30",
   "metadata": {},
   "outputs": [
    {
     "name": "stdout",
     "output_type": "stream",
     "text": [
      "Encoded Feature Array Shape: (10000, 7225)\n"
     ]
    }
   ],
   "source": [
    "# Initialize and fit a OneHotEncoder on the categorical features\n",
    "encoder = OneHotEncoder(sparse_output=False)\n",
    "encoder.fit(X_cat)\n",
    "\n",
    "# Transform the categorical features using the fitted encoder\n",
    "X_enc = encoder.transform(X_cat)\n",
    "\n",
    "# Print the shape of the encoded feature array\n",
    "print(f'Encoded Feature Array Shape: {X_enc.shape}')"
   ]
  },
  {
   "cell_type": "markdown",
   "id": "9abed828-eaa0-4768-bad9-f8edcf64415b",
   "metadata": {},
   "source": [
    "Combine numerical features with encoded categorical. "
   ]
  },
  {
   "cell_type": "code",
   "execution_count": 82,
   "id": "1561d634-5f60-4b9d-a50e-2c9280a76dc8",
   "metadata": {},
   "outputs": [
    {
     "name": "stdout",
     "output_type": "stream",
     "text": [
      "Feature Array Shape: (10000, 7242)\n"
     ]
    }
   ],
   "source": [
    "# Combine numerical and encoded categorical features into one feature array\n",
    "X = np.hstack((X_num, X_enc))\n",
    "\n",
    "# Print the shape of the combined feature array\n",
    "print(f'Feature Array Shape: {X.shape}')"
   ]
  },
  {
   "cell_type": "markdown",
   "id": "972d744f-0dfe-4393-bd9a-e88dd76da3cb",
   "metadata": {},
   "source": [
    "Split into train, validation, and test"
   ]
  },
  {
   "cell_type": "code",
   "execution_count": 84,
   "id": "b4e1217c-064a-4a91-b116-1ef43b895a95",
   "metadata": {},
   "outputs": [
    {
     "name": "stdout",
     "output_type": "stream",
     "text": [
      "Training Features Shape:       (7000, 7242)\n",
      "Validation Features Shape:     (1500, 7242)\n",
      "Test Features Shape:           (1500, 7242)\n"
     ]
    }
   ],
   "source": [
    "# Split the data into training and hold-out sets with stratified sampling\n",
    "X_train, X_hold, y_train, y_hold = train_test_split(X, y, test_size=0.3, random_state=1, stratify=y)\n",
    "\n",
    "# Further split the hold-out set into validation and test sets\n",
    "X_valid, X_test, y_valid, y_test = train_test_split(X_hold, y_hold, test_size=0.5, random_state=1, stratify=y_hold)\n",
    "\n",
    "# Print the shapes of the training, validation, and test feature arrays to verify correct split\n",
    "print(f'{\"Training Features Shape: \":<30} {X_train.shape}')\n",
    "print(f'{\"Validation Features Shape: \":<30} {X_valid.shape}')\n",
    "print(f'{\"Test Features Shape: \":<30} {X_test.shape}')"
   ]
  },
  {
   "cell_type": "markdown",
   "id": "272c7a2e-6980-4c48-98ff-2f02180fcc69",
   "metadata": {},
   "source": [
    "### Logistic Regression"
   ]
  },
  {
   "cell_type": "code",
   "execution_count": 86,
   "id": "fcf29ec6-1277-4c84-aa47-62ab1b67c068",
   "metadata": {},
   "outputs": [
    {
     "name": "stdout",
     "output_type": "stream",
     "text": [
      "Training Accuracy:             0.614\n",
      "Validation Accuracy:           0.6293\n"
     ]
    },
    {
     "name": "stderr",
     "output_type": "stream",
     "text": [
      "C:\\Users\\kelby\\anaconda3\\Lib\\site-packages\\sklearn\\linear_model\\_logistic.py:469: ConvergenceWarning: lbfgs failed to converge (status=1):\n",
      "STOP: TOTAL NO. of ITERATIONS REACHED LIMIT.\n",
      "\n",
      "Increase the number of iterations (max_iter) or scale the data as shown in:\n",
      "    https://scikit-learn.org/stable/modules/preprocessing.html\n",
      "Please also refer to the documentation for alternative solver options:\n",
      "    https://scikit-learn.org/stable/modules/linear_model.html#logistic-regression\n",
      "  n_iter_i = _check_optimize_result(\n"
     ]
    }
   ],
   "source": [
    "# Initialize and train a Logistic Regression model\n",
    "lr_mod = LogisticRegression(solver='lbfgs', max_iter=1000, multi_class='multinomial', penalty=None)\n",
    "lr_mod.fit(X_train, y_train)\n",
    "\n",
    "# Print the training and validation accuracy of the Logistic Regression model\n",
    "print(f'{\"Training Accuracy: \":<30} {round(lr_mod.score(X_train, y_train), 4)}')\n",
    "print(f'{\"Validation Accuracy: \":<30} {round(lr_mod.score(X_valid, y_valid), 4)}')"
   ]
  },
  {
   "cell_type": "markdown",
   "id": "49cb2a61-5a33-487a-a002-c6bef11650db",
   "metadata": {},
   "source": [
    "### Decision Tree"
   ]
  },
  {
   "cell_type": "code",
   "execution_count": 100,
   "id": "d1569ab5-2298-4a23-a74a-823f2177db59",
   "metadata": {},
   "outputs": [
    {
     "name": "stdout",
     "output_type": "stream",
     "text": [
      "Optimal value for max_depth:             3\n",
      "Training Accuracy for Optimal Model:     0.6994\n",
      "Validation Accuracy for Optimal Model:   0.6873\n"
     ]
    }
   ],
   "source": [
    "# Initialize lists to store training and validation accuracy for Decision Trees\n",
    "dt_train_acc = []\n",
    "dt_valid_acc = []\n",
    "depth_range = range(2,30)\n",
    "\n",
    "# Loop through the depth range and train a Decision Tree for each depth\n",
    "for d in depth_range:\n",
    "    temp_tree = DecisionTreeClassifier(max_depth=d, random_state=1)\n",
    "    temp_tree.fit(X_train, y_train)\n",
    "    dt_train_acc.append(temp_tree.score(X_train, y_train))\n",
    "    dt_valid_acc.append(temp_tree.score(X_valid, y_valid))\n",
    "\n",
    "# Find the optimal max_depth based on validation accuracy\n",
    "dt_idx = np.argmax(dt_valid_acc)\n",
    "dt_opt_depth = depth_range[dt_idx]\n",
    "\n",
    "# Print the optimal max_depth and corresponding training and validation accuracy\n",
    "print(f'{\"Optimal value for max_depth: \":<40} {dt_opt_depth}')\n",
    "print(f'{\"Training Accuracy for Optimal Model: \":<40} {round(dt_train_acc[dt_idx], 4)}')\n",
    "print(f'{\"Validation Accuracy for Optimal Model: \":<40} {round(dt_valid_acc[dt_idx], 4)}')"
   ]
  },
  {
   "cell_type": "markdown",
   "id": "45bc066c-c935-449a-9a4f-40bb42ff33b9",
   "metadata": {},
   "source": [
    "Plot training and validation curve for visualization"
   ]
  },
  {
   "cell_type": "code",
   "execution_count": 94,
   "id": "3fa19ea6-8db0-4e0f-9e9b-0e35d0a43234",
   "metadata": {},
   "outputs": [
    {
     "data": {
      "image/png": "[encoded data removed]",
      "text/plain": [
       "<Figure size 640x480 with 1 Axes>"
      ]
     },
     "metadata": {},
     "output_type": "display_data"
    }
   ],
   "source": [
    "# Plot training and validation accuracy as a function of max_depth\n",
    "plt.plot(depth_range, dt_train_acc, label='Training')\n",
    "plt.plot(depth_range, dt_valid_acc, label='Validation')\n",
    "plt.xlabel('Max Depth')\n",
    "plt.ylabel('Accuracy')\n",
    "plt.xticks(depth_range)\n",
    "plt.legend()\n",
    "plt.show()"
   ]
  },
  {
   "cell_type": "markdown",
   "id": "3113b73c-19bd-4415-98ce-355e649a832b",
   "metadata": {},
   "source": [
    "### Random Forest"
   ]
  },
  {
   "cell_type": "code",
   "execution_count": 102,
   "id": "0c3cea2c-8434-4710-a6dd-30c2b142ffe2",
   "metadata": {},
   "outputs": [
    {
     "name": "stdout",
     "output_type": "stream",
     "text": [
      "Optimal value for max_depth:             29\n",
      "Training Accuracy for Optimal Model:     0.9041\n",
      "Validation Accuracy for Optimal Model:   0.6907\n"
     ]
    }
   ],
   "source": [
    "# Initialize lists to store training and validation accuracy for Random Forests\n",
    "rf_train_acc = []\n",
    "rf_valid_acc = []\n",
    "\n",
    "# Loop through the depth range and train a Random Forest for each depth\n",
    "for d in depth_range:\n",
    "    temp_forest = RandomForestClassifier(n_estimators=100, max_depth=d, random_state=1)\n",
    "    temp_forest.fit(X_train, y_train)\n",
    "    rf_train_acc.append(temp_forest.score(X_train, y_train))\n",
    "    rf_valid_acc.append(temp_forest.score(X_valid, y_valid))\n",
    "\n",
    "# Find the optimal max_depth based on validation accuracy for Random Forests\n",
    "rf_idx = np.argmax(rf_valid_acc)\n",
    "rf_opt_depth = depth_range[rf_idx]\n",
    "\n",
    "# Print the optimal max_depth and corresponding training and validation accuracy for Random Forests\n",
    "print(f'{\"Optimal value for max_depth: \":<40} {rf_opt_depth}')\n",
    "print(f'{\"Training Accuracy for Optimal Model: \":<40} {round(rf_train_acc[rf_idx], 4)}')\n",
    "print(f'{\"Validation Accuracy for Optimal Model: \":<40} {round(rf_valid_acc[rf_idx], 4)}')"
   ]
  },
  {
   "cell_type": "markdown",
   "id": "74bbdf6b-e63e-424f-8701-fb5b96f572ee",
   "metadata": {},
   "source": [
    "Plot again for visualization"
   ]
  },
  {
   "cell_type": "code",
   "execution_count": 98,
   "id": "32554874-80cc-4f18-af89-7452891d61d4",
   "metadata": {},
   "outputs": [
    {
     "data": {
      "image/png": "[encoded data removed]",
      "text/plain": [
       "<Figure size 640x480 with 1 Axes>"
      ]
     },
     "metadata": {},
     "output_type": "display_data"
    }
   ],
   "source": [
    "# Plot training and validation accuracy as a function of max_depth for Random Forests\n",
    "plt.plot(depth_range, rf_train_acc, label='Training')\n",
    "plt.plot(depth_range, rf_valid_acc, label='Validation')\n",
    "plt.xlabel('Max Depth')\n",
    "plt.ylabel('Accuracy')\n",
    "plt.xticks(depth_range)\n",
    "plt.legend()\n",
    "plt.show()"
   ]
  },
  {
   "cell_type": "markdown",
   "id": "48617d66-ff7b-42b2-aeea-cd37d83fd43b",
   "metadata": {},
   "source": [
    "### Evaluating final model example"
   ]
  },
  {
   "cell_type": "code",
   "execution_count": 66,
   "id": "107cfafb-a03f-47d1-8c02-a36263a6e672",
   "metadata": {},
   "outputs": [
    {
     "name": "stdout",
     "output_type": "stream",
     "text": [
      "Training Accuracy for Final Model:       1.0\n",
      "Validation Accuracy for Final Model:     0.6867\n",
      "Testing Accuracy for Final Model:        0.6\n"
     ]
    }
   ],
   "source": [
    "# Train the final Random Forest model with the optimal max_depth\n",
    "final_model = RandomForestClassifier(n_estimators=100, max_depth=28, random_state=1)\n",
    "final_model.fit(X_train, y_train)\n",
    "\n",
    "# Print the training, validation, and test accuracy for the final model\n",
    "print(f'{\"Training Accuracy for Final Model: \":<40} {round(final_model.score(X_train, y_train), 4)}')\n",
    "print(f'{\"Validation Accuracy for Final Model: \":<40} {round(final_model.score(X_valid, y_valid), 4)}')\n",
    "print(f'{\"Testing Accuracy for Final Model: \":<40} {round(final_model.score(X_test, y_test), 4)}')"
   ]
  },
  {
   "cell_type": "markdown",
   "id": "3adf3f6c-7286-49a4-9461-fe55605a283b",
   "metadata": {},
   "source": [
    "Confusion Matrix"
   ]
  },
  {
   "cell_type": "code",
   "execution_count": 70,
   "id": "66e1c16f-e2c3-459e-9a58-f096698033ce",
   "metadata": {},
   "outputs": [
    {
     "data": {
      "text/html": [
       "<div>\n",
       "<style scoped>\n",
       "    .dataframe tbody tr th:only-of-type {\n",
       "        vertical-align: middle;\n",
       "    }\n",
       "\n",
       "    .dataframe tbody tr th {\n",
       "        vertical-align: top;\n",
       "    }\n",
       "\n",
       "    .dataframe thead th {\n",
       "        text-align: right;\n",
       "    }\n",
       "</style>\n",
       "<table border=\"1\" class=\"dataframe\">\n",
       "  <thead>\n",
       "    <tr style=\"text-align: right;\">\n",
       "      <th></th>\n",
       "      <th>1</th>\n",
       "      <th>2</th>\n",
       "      <th>3</th>\n",
       "    </tr>\n",
       "  </thead>\n",
       "  <tbody>\n",
       "    <tr>\n",
       "      <th>1</th>\n",
       "      <td>14</td>\n",
       "      <td>1</td>\n",
       "      <td>13</td>\n",
       "    </tr>\n",
       "    <tr>\n",
       "      <th>2</th>\n",
       "      <td>2</td>\n",
       "      <td>23</td>\n",
       "      <td>17</td>\n",
       "    </tr>\n",
       "    <tr>\n",
       "      <th>3</th>\n",
       "      <td>14</td>\n",
       "      <td>13</td>\n",
       "      <td>53</td>\n",
       "    </tr>\n",
       "  </tbody>\n",
       "</table>\n",
       "</div>"
      ],
      "text/plain": [
       "    1   2   3\n",
       "1  14   1  13\n",
       "2   2  23  17\n",
       "3  14  13  53"
      ]
     },
     "execution_count": 70,
     "metadata": {},
     "output_type": "execute_result"
    }
   ],
   "source": [
    "# Predict the test set labels using the final model\n",
    "test_pred = final_model.predict(X_test)\n",
    "\n",
    "# Create a confusion matrix from the test predictions\n",
    "matrix = confusion_matrix(y_test, test_pred)\n",
    "\n",
    "# Convert the confusion matrix to a DataFrame for better readability\n",
    "matrix_df = pd.DataFrame(matrix, index=['1', '2', '3'], columns=['1', '2', '3'])\n",
    "\n",
    "# Display the confusion matrix\n",
    "matrix_df"
   ]
  },
  {
   "cell_type": "markdown",
   "id": "114ab8c4-e3e1-4e4e-837f-036a87bbb8ed",
   "metadata": {},
   "source": [
    "Classification report: "
   ]
  },
  {
   "cell_type": "code",
   "execution_count": 74,
   "id": "fdc33a2f-bdcb-4dec-8db9-772a816016a4",
   "metadata": {},
   "outputs": [
    {
     "name": "stdout",
     "output_type": "stream",
     "text": [
      "              precision    recall  f1-score   support\n",
      "\n",
      "      Column       0.47      0.50      0.48        28\n",
      "       Names       0.62      0.55      0.58        42\n",
      "      Labels       0.64      0.66      0.65        80\n",
      "\n",
      "    accuracy                           0.60       150\n",
      "   macro avg       0.58      0.57      0.57       150\n",
      "weighted avg       0.60      0.60      0.60       150\n",
      "\n"
     ]
    }
   ],
   "source": [
    "# Print the classification report for the test predictions\n",
    "print(classification_report(y_test, test_pred, target_names=['Column', 'Names', 'Labels']))"
   ]
  },
  {
   "cell_type": "markdown",
   "id": "5c5f8007-966a-436a-a1c2-f7e741567718",
   "metadata": {},
   "source": [
    "Precision is the percentage of time that it guessed positive and it was correct. <br /> \n",
    "Recall is the percentage of occurences where the model guessed positive out of all the total that were actually positive. <br/>\n",
    "precision = true positives / (true positives + false positives **- occurrence was actually negative but model guessed positive**) <br />\n",
    "recall = true_positives / (true positives + false negatives **- occurrence was actually positive but model guessed negative**)"
   ]
  },
  {
   "cell_type": "markdown",
   "id": "63c5902a-97c2-44fd-ad08-c38fcb980eb9",
   "metadata": {},
   "source": [
    "Both precision and recall are essential, but their importance can vary based on your specific application: \n",
    "\n",
    "**Precision:** This is crucial when you want to minimize false positives. For instance, if you're developing a spam filter, you'd want high precision to ensure that legitimate emails aren't incorrectly marked as spam.\n",
    "\n",
    "**Recall:** This is vital when you aim to minimize false negatives. For example, in medical diagnostics, you'd want high recall to ensure that as many true cases of a disease are identified as possible, even if it means having a few false positives."
   ]
  }
 ],
 "metadata": {
  "kernelspec": {
   "display_name": "Python 3 (ipykernel)",
   "language": "python",
   "name": "python3"
  },
  "language_info": {
   "codemirror_mode": {
    "name": "ipython",
    "version": 3
   },
   "file_extension": ".py",
   "mimetype": "text/x-python",
   "name": "python",
   "nbconvert_exporter": "python",
   "pygments_lexer": "ipython3",
   "version": "3.12.4"
  }
 },
 "nbformat": 4,
 "nbformat_minor": 5
}
